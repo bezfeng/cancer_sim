{
 "cells": [
  {
   "cell_type": "markdown",
   "metadata": {},
   "source": [
    "## Import modules "
   ]
  },
  {
   "cell_type": "code",
   "execution_count": 1,
   "metadata": {},
   "outputs": [],
   "source": [
    "# The cancer simulation module.\n",
    "from casim import casim"
   ]
  },
  {
   "cell_type": "code",
   "execution_count": 2,
   "metadata": {},
   "outputs": [],
   "source": [
    "#  3rd party modules.\n",
    "import os, shutil\n",
    "from wand.image import Image as WImage\n",
    "from glob import glob\n",
    "import logging"
   ]
  },
  {
   "cell_type": "code",
   "execution_count": 3,
   "metadata": {},
   "outputs": [],
   "source": [
    "logging.getLogger().setLevel(logging.INFO)"
   ]
  },
  {
   "cell_type": "code",
   "execution_count": 4,
   "metadata": {},
   "outputs": [],
   "source": [
    "import pickle\n",
    "from matplotlib import pyplot"
   ]
  },
  {
   "cell_type": "code",
   "execution_count": 5,
   "metadata": {},
   "outputs": [],
   "source": [
    "def unpickle(file, outdir):\n",
    "\n",
    "    with open(os.path.join(outdir,'cancer_1','simOutput', file),'rb') as fp:\n",
    "        return pickle.load(fp)"
   ]
  },
  {
   "cell_type": "markdown",
   "metadata": {},
   "source": [
    "## Setup parameters for run 1 (all adv. parameters=0)\n",
    "Initially, cells with advantageous mutations divide only seldomly, the tumour is dormant."
   ]
  },
  {
   "cell_type": "code",
   "execution_count": 12,
   "metadata": {},
   "outputs": [],
   "source": [
    "import random"
   ]
  },
  {
   "cell_type": "code",
   "execution_count": 14,
   "metadata": {},
   "outputs": [
    {
     "data": {
      "text/plain": [
       "2"
      ]
     },
     "execution_count": 14,
     "metadata": {},
     "output_type": "execute_result"
    }
   ],
   "source": [
    "random.choice([1,2,3,4])"
   ]
  },
  {
   "cell_type": "code",
   "execution_count": 11,
   "metadata": {},
   "outputs": [],
   "source": [
    "parameters=casim.CancerSimulatorParameters(\n",
    "                                matrix_size=200,\n",
    "                                number_of_generations=50,\n",
    "                                division_probability=0.6,\n",
    "                                adv_mutant_division_probability=0.5,\n",
    "                                death_probability=0.3,\n",
    "                                adv_mutant_death_probability=0.05,\n",
    "                                mutation_probability=1.0,\n",
    "                                adv_mutant_mutation_probability=1.0,\n",
    "                                number_of_mutations_per_division=10,\n",
    "                                adv_mutation_wait_time=40,\n",
    "                                number_of_initial_mutations=2,\n",
    "                                sampling_fraction=0.9,\n",
    "                                plot_tumour_growth=True,\n",
    "                                export_tumour=True\n",
    "                               )"
   ]
  },
  {
   "cell_type": "markdown",
   "metadata": {},
   "source": [
    "## Setup the simulation engine. "
   ]
  },
  {
   "cell_type": "code",
   "execution_count": 7,
   "metadata": {},
   "outputs": [],
   "source": [
    "outdir = 'out_1'"
   ]
  },
  {
   "cell_type": "code",
   "execution_count": 8,
   "metadata": {},
   "outputs": [],
   "source": [
    "if os.path.isdir(outdir):\n",
    "    shutil.rmtree(outdir)"
   ]
  },
  {
   "cell_type": "code",
   "execution_count": 9,
   "metadata": {},
   "outputs": [
    {
     "name": "stderr",
     "output_type": "stream",
     "text": [
      "2020-08-19 12:18:09,178 INFO: Running in single tumour mode.\n",
      "2020-08-19 12:18:09,179 INFO: First cell at (100, 100).\n"
     ]
    }
   ],
   "source": [
    "cancer_sim = casim.CancerSimulator(parameters, seed=3, outdir=outdir)"
   ]
  },
  {
   "cell_type": "markdown",
   "metadata": {},
   "source": [
    "## Run the simulation "
   ]
  },
  {
   "cell_type": "code",
   "execution_count": 10,
   "metadata": {
    "scrolled": true
   },
   "outputs": [
    {
     "name": "stderr",
     "output_type": "stream",
     "text": [
      "2020-08-19 12:18:09,259 INFO: Ready to start CancerSim run with these parameters:\n",
      "2020-08-19 12:18:09,260 INFO: matrix_size = 200\n",
      "2020-08-19 12:18:09,262 INFO: number_of_generations = 50\n",
      "2020-08-19 12:18:09,263 INFO: division_probability = 0.6\n",
      "2020-08-19 12:18:09,264 INFO: adv_mutant_division_probability = 0.5\n",
      "2020-08-19 12:18:09,265 INFO: death_probability = 0.3\n",
      "2020-08-19 12:18:09,266 INFO: adv_mutant_death_probability = 0.05\n",
      "2020-08-19 12:18:09,268 INFO: mutation_probability = 1.0\n",
      "2020-08-19 12:18:09,269 INFO: adv_mutant_mutation_probability = 1.0\n",
      "2020-08-19 12:18:09,271 INFO: number_of_mutations_per_division = 10\n",
      "2020-08-19 12:18:09,272 INFO: adv_mutation_wait_time = 30\n",
      "2020-08-19 12:18:09,274 INFO: number_of_initial_mutations = 2\n",
      "2020-08-19 12:18:09,275 INFO: tumour_multiplicity = single\n",
      "2020-08-19 12:18:09,276 INFO: read_depth = 100\n",
      "2020-08-19 12:18:09,277 INFO: sampling_fraction = 0.9\n",
      "2020-08-19 12:18:09,278 INFO: plot_tumour_growth = True\n",
      "2020-08-19 12:18:09,279 INFO: export_tumour = True\n",
      "2020-08-19 12:18:09,280 INFO: Tumour growth in progress.\n",
      "2020-08-19 12:18:09,383 INFO: New beneficial mutation: 2154\n",
      "2020-08-19 12:18:09,434 INFO: Division of beneficial mutation carrier. Cell index = (100, 90), mutation index = 2154, place_to_divide=(101, 89)\n",
      "2020-08-19 12:18:09,435 INFO: Mutation  of beneficial mutation carrier. Cell index = (100, 90), mutation index = 2154, place to divide = (101, 89)\n",
      "2020-08-19 12:18:09,492 INFO: Division of beneficial mutation carrier. Cell index = (101, 89), mutation index = 3092, place_to_divide=(102, 88)\n",
      "2020-08-19 12:18:09,493 INFO: Mutation  of beneficial mutation carrier. Cell index = (101, 89), mutation index = 3092, place to divide = (102, 88)\n",
      "2020-08-19 12:18:09,518 INFO: Division of beneficial mutation carrier. Cell index = (102, 88), mutation index = 4158, place_to_divide=(101, 87)\n",
      "2020-08-19 12:18:09,519 INFO: Mutation  of beneficial mutation carrier. Cell index = (102, 88), mutation index = 4158, place to divide = (101, 87)\n",
      "2020-08-19 12:18:09,825 INFO: All generations finished. Starting tumour reconstruction.\n",
      "2020-08-19 12:18:09,835 INFO: Reconstruction done,  get statistics.\n",
      "2020-08-19 12:18:11,165 INFO: Exporting simulation data\n",
      "2020-08-19 12:18:11,392 INFO: Growth curve graph written to out_1/cancer_3/simOutput/growthCurve.pdf.\n",
      "2020-08-19 12:18:12,826 INFO: CancerSim run has finished.\n",
      "2020-08-19 12:18:12,827 INFO: Simulation output written to: out_1/cancer_3/simOutput.\n",
      "2020-08-19 12:18:12,828 INFO: Log files written to: out_1/cancer_3/log.\n",
      "2020-08-19 12:18:12,828 INFO: Consumed Wall time of this run: 3.545231 s.\n"
     ]
    },
    {
     "data": {
      "text/plain": [
       "0"
      ]
     },
     "execution_count": 10,
     "metadata": {},
     "output_type": "execute_result"
    }
   ],
   "source": [
    "cancer_sim.run()"
   ]
  },
  {
   "cell_type": "markdown",
   "metadata": {},
   "source": [
    "## Visualize the first stage of the run"
   ]
  },
  {
   "cell_type": "code",
   "execution_count": 10,
   "metadata": {},
   "outputs": [],
   "source": [
    "image_path=os.path.join(outdir,'cancer_3', 'simOutput')"
   ]
  },
  {
   "cell_type": "code",
   "execution_count": 11,
   "metadata": {},
   "outputs": [],
   "source": [
    "pdfs = glob(os.path.join(image_path,\"*.pdf\"))"
   ]
  },
  {
   "cell_type": "code",
   "execution_count": 12,
   "metadata": {},
   "outputs": [
    {
     "name": "stdout",
     "output_type": "stream",
     "text": [
      "out_1/cancer_3/simOutput/growthCurve.pdf\n"
     ]
    },
    {
     "data": {
      "image/png": "[encoded data removed]",
      "text/plain": [
       "<wand.image.Image: aec88e3 'PDF' (432x288)>"
      ]
     },
     "metadata": {},
     "output_type": "display_data"
    },
    {
     "name": "stdout",
     "output_type": "stream",
     "text": [
      "out_1/cancer_3/simOutput/wholeTumourVAFHistogram.pdf\n"
     ]
    },
    {
     "data": {
      "image/png": "[encoded data removed]",
      "text/plain": [
       "<wand.image.Image: 373928e 'PDF' (432x288)>"
      ]
     },
     "metadata": {},
     "output_type": "display_data"
    },
    {
     "name": "stdout",
     "output_type": "stream",
     "text": [
      "out_1/cancer_3/simOutput/sampleHistogram_106_107.pdf\n"
     ]
    },
    {
     "data": {
      "image/png": "[encoded data removed]",
      "text/plain": [
       "<wand.image.Image: b2f1757 'PDF' (432x288)>"
      ]
     },
     "metadata": {},
     "output_type": "display_data"
    }
   ],
   "source": [
    "for pdf in pdfs:\n",
    "    print(pdf)\n",
    "    display(WImage(filename=pdf))"
   ]
  },
  {
   "cell_type": "code",
   "execution_count": 27,
   "metadata": {},
   "outputs": [
    {
     "ename": "FileNotFoundError",
     "evalue": "[Errno 2] No such file or directory: 'out_1/cancer_1/simOutput/mtx.p'",
     "output_type": "error",
     "traceback": [
      "\u001b[0;31m---------------------------------------------------------------------------\u001b[0m",
      "\u001b[0;31mFileNotFoundError\u001b[0m                         Traceback (most recent call last)",
      "\u001b[0;32m<ipython-input-27-6f545eccc5c0>\u001b[0m in \u001b[0;36m<module>\u001b[0;34m\u001b[0m\n\u001b[1;32m      1\u001b[0m \u001b[0;31m# Load the mutation matrix\u001b[0m\u001b[0;34m\u001b[0m\u001b[0;34m\u001b[0m\u001b[0;34m\u001b[0m\u001b[0m\n\u001b[0;32m----> 2\u001b[0;31m \u001b[0mmtx\u001b[0m\u001b[0;34m=\u001b[0m\u001b[0munpickle\u001b[0m\u001b[0;34m(\u001b[0m\u001b[0;34m'mtx.p'\u001b[0m\u001b[0;34m,\u001b[0m \u001b[0moutdir\u001b[0m\u001b[0;34m)\u001b[0m\u001b[0;34m.\u001b[0m\u001b[0mtoarray\u001b[0m\u001b[0;34m(\u001b[0m\u001b[0;34m)\u001b[0m\u001b[0;34m\u001b[0m\u001b[0;34m\u001b[0m\u001b[0m\n\u001b[0m",
      "\u001b[0;32m<ipython-input-13-5560dd73d594>\u001b[0m in \u001b[0;36munpickle\u001b[0;34m(file, outdir)\u001b[0m\n\u001b[1;32m      1\u001b[0m \u001b[0;32mdef\u001b[0m \u001b[0munpickle\u001b[0m\u001b[0;34m(\u001b[0m\u001b[0mfile\u001b[0m\u001b[0;34m,\u001b[0m \u001b[0moutdir\u001b[0m\u001b[0;34m)\u001b[0m\u001b[0;34m:\u001b[0m\u001b[0;34m\u001b[0m\u001b[0;34m\u001b[0m\u001b[0m\n\u001b[1;32m      2\u001b[0m \u001b[0;34m\u001b[0m\u001b[0m\n\u001b[0;32m----> 3\u001b[0;31m     \u001b[0;32mwith\u001b[0m \u001b[0mopen\u001b[0m\u001b[0;34m(\u001b[0m\u001b[0mos\u001b[0m\u001b[0;34m.\u001b[0m\u001b[0mpath\u001b[0m\u001b[0;34m.\u001b[0m\u001b[0mjoin\u001b[0m\u001b[0;34m(\u001b[0m\u001b[0moutdir\u001b[0m\u001b[0;34m,\u001b[0m\u001b[0;34m'cancer_1'\u001b[0m\u001b[0;34m,\u001b[0m\u001b[0;34m'simOutput'\u001b[0m\u001b[0;34m,\u001b[0m \u001b[0mfile\u001b[0m\u001b[0;34m)\u001b[0m\u001b[0;34m,\u001b[0m\u001b[0;34m'rb'\u001b[0m\u001b[0;34m)\u001b[0m \u001b[0;32mas\u001b[0m \u001b[0mfp\u001b[0m\u001b[0;34m:\u001b[0m\u001b[0;34m\u001b[0m\u001b[0;34m\u001b[0m\u001b[0m\n\u001b[0m\u001b[1;32m      4\u001b[0m         \u001b[0;32mreturn\u001b[0m \u001b[0mpickle\u001b[0m\u001b[0;34m.\u001b[0m\u001b[0mload\u001b[0m\u001b[0;34m(\u001b[0m\u001b[0mfp\u001b[0m\u001b[0;34m)\u001b[0m\u001b[0;34m\u001b[0m\u001b[0;34m\u001b[0m\u001b[0m\n",
      "\u001b[0;31mFileNotFoundError\u001b[0m: [Errno 2] No such file or directory: 'out_1/cancer_1/simOutput/mtx.p'"
     ]
    }
   ],
   "source": [
    "# Load the mutation matrix\n",
    "mtx=unpickle('mtx.p', outdir).toarray()"
   ]
  },
  {
   "cell_type": "code",
   "execution_count": 23,
   "metadata": {},
   "outputs": [
    {
     "ename": "NameError",
     "evalue": "name 'mtx' is not defined",
     "output_type": "error",
     "traceback": [
      "\u001b[0;31m---------------------------------------------------------------------------\u001b[0m",
      "\u001b[0;31mNameError\u001b[0m                                 Traceback (most recent call last)",
      "\u001b[0;32m<ipython-input-23-c0219c41461c>\u001b[0m in \u001b[0;36m<module>\u001b[0;34m\u001b[0m\n\u001b[1;32m      1\u001b[0m \u001b[0;31m# Plot the tumour as a 2D map color coding the mutation ID\u001b[0m\u001b[0;34m\u001b[0m\u001b[0;34m\u001b[0m\u001b[0;34m\u001b[0m\u001b[0m\n\u001b[0;32m----> 2\u001b[0;31m \u001b[0mcmap\u001b[0m \u001b[0;34m=\u001b[0m \u001b[0mpyplot\u001b[0m\u001b[0;34m.\u001b[0m\u001b[0mcm\u001b[0m\u001b[0;34m.\u001b[0m\u001b[0mget_cmap\u001b[0m\u001b[0;34m(\u001b[0m\u001b[0;34m'PRGn'\u001b[0m\u001b[0;34m,\u001b[0m\u001b[0mmtx\u001b[0m\u001b[0;34m.\u001b[0m\u001b[0mmax\u001b[0m\u001b[0;34m(\u001b[0m\u001b[0;34m)\u001b[0m\u001b[0;34m)\u001b[0m\u001b[0;34m\u001b[0m\u001b[0;34m\u001b[0m\u001b[0m\n\u001b[0m\u001b[1;32m      3\u001b[0m \u001b[0;34m\u001b[0m\u001b[0m\n\u001b[1;32m      4\u001b[0m \u001b[0mpyplot\u001b[0m\u001b[0;34m.\u001b[0m\u001b[0mmatshow\u001b[0m\u001b[0;34m(\u001b[0m\u001b[0mmtx\u001b[0m\u001b[0;34m,\u001b[0m \u001b[0mcmap\u001b[0m\u001b[0;34m=\u001b[0m\u001b[0mcmap\u001b[0m\u001b[0;34m)\u001b[0m\u001b[0;34m\u001b[0m\u001b[0;34m\u001b[0m\u001b[0m\n\u001b[1;32m      5\u001b[0m \u001b[0mpyplot\u001b[0m\u001b[0;34m.\u001b[0m\u001b[0mcolorbar\u001b[0m\u001b[0;34m(\u001b[0m\u001b[0;34m)\u001b[0m\u001b[0;34m\u001b[0m\u001b[0;34m\u001b[0m\u001b[0m\n",
      "\u001b[0;31mNameError\u001b[0m: name 'mtx' is not defined"
     ]
    }
   ],
   "source": [
    "# Plot the tumour as a 2D map color coding the mutation ID\n",
    "cmap = pyplot.cm.get_cmap('PRGn',mtx.max())\n",
    "\n",
    "pyplot.matshow(mtx, cmap=cmap)\n",
    "pyplot.colorbar()"
   ]
  },
  {
   "cell_type": "markdown",
   "metadata": {},
   "source": [
    "## Setup parameters for run 2 (all adv. parameters=1)\n"
   ]
  },
  {
   "cell_type": "code",
   "execution_count": 46,
   "metadata": {},
   "outputs": [],
   "source": [
    "parameters=casim.CancerSimulatorParameters(\n",
    "                                matrix_size=100,\n",
    "                                number_of_generations=50,\n",
    "                                division_probability=0.6,\n",
    "                                adv_mutant_division_probability=1.0,\n",
    "                                death_probability=0.3,\n",
    "                                adv_mutant_death_probability=0.05,\n",
    "                                mutation_probability=0.5,\n",
    "                                adv_mutant_mutation_probability=1.0,\n",
    "                                number_of_mutations_per_division=10,\n",
    "                                adv_mutation_wait_time=30,\n",
    "                                number_of_initial_mutations=2,\n",
    "                                sampling_fraction=0.9,\n",
    "                                plot_tumour_growth=True,\n",
    "                                export_tumour=True\n",
    "                               )"
   ]
  },
  {
   "cell_type": "markdown",
   "metadata": {},
   "source": [
    "## Setup the simulation engine. "
   ]
  },
  {
   "cell_type": "code",
   "execution_count": 47,
   "metadata": {},
   "outputs": [],
   "source": [
    "outdir = 'out_2'"
   ]
  },
  {
   "cell_type": "code",
   "execution_count": 48,
   "metadata": {},
   "outputs": [],
   "source": [
    "if os.path.isdir(outdir):\n",
    "    shutil.rmtree(outdir)"
   ]
  },
  {
   "cell_type": "code",
   "execution_count": 49,
   "metadata": {},
   "outputs": [
    {
     "name": "stderr",
     "output_type": "stream",
     "text": [
      "2020-08-18 17:29:32,133 INFO: Running in single tumour mode.\n",
      "2020-08-18 17:29:32,135 INFO: First cell at (50, 50).\n"
     ]
    }
   ],
   "source": [
    "cancer_sim = casim.CancerSimulator(parameters, seed=1, outdir=outdir)"
   ]
  },
  {
   "cell_type": "markdown",
   "metadata": {},
   "source": [
    "## Run the simulation "
   ]
  },
  {
   "cell_type": "code",
   "execution_count": 50,
   "metadata": {
    "scrolled": true
   },
   "outputs": [
    {
     "name": "stderr",
     "output_type": "stream",
     "text": [
      "2020-08-18 17:29:32,451 INFO: Ready to start CancerSim run with these parameters:\n",
      "2020-08-18 17:29:32,453 INFO: matrix_size = 100\n",
      "2020-08-18 17:29:32,454 INFO: number_of_generations = 50\n",
      "2020-08-18 17:29:32,456 INFO: division_probability = 0.6\n",
      "2020-08-18 17:29:32,457 INFO: adv_mutant_division_probability = 1.0\n",
      "2020-08-18 17:29:32,458 INFO: death_probability = 0.3\n",
      "2020-08-18 17:29:32,460 INFO: adv_mutant_death_probability = 0.05\n",
      "2020-08-18 17:29:32,461 INFO: mutation_probability = 0.5\n",
      "2020-08-18 17:29:32,462 INFO: adv_mutant_mutation_probability = 1.0\n",
      "2020-08-18 17:29:32,463 INFO: number_of_mutations_per_division = 10\n",
      "2020-08-18 17:29:32,465 INFO: adv_mutation_wait_time = 30\n",
      "2020-08-18 17:29:32,466 INFO: number_of_initial_mutations = 2\n",
      "2020-08-18 17:29:32,467 INFO: tumour_multiplicity = single\n",
      "2020-08-18 17:29:32,468 INFO: read_depth = 100\n",
      "2020-08-18 17:29:32,469 INFO: sampling_fraction = 0.9\n",
      "2020-08-18 17:29:32,471 INFO: plot_tumour_growth = True\n",
      "2020-08-18 17:29:32,472 INFO: export_tumour = True\n",
      "2020-08-18 17:29:32,473 INFO: Tumour growth in progress.\n",
      "2020-08-18 17:29:32,568 INFO: Division in beneficial mutation carrier.\n",
      "2020-08-18 17:29:32,588 INFO: Division in beneficial mutation carrier.\n",
      "2020-08-18 17:29:32,589 INFO: Mutation 680 is beneficial.\n",
      "2020-08-18 17:29:32,610 INFO: Division in beneficial mutation carrier.\n",
      "2020-08-18 17:29:32,611 INFO: Mutation 776 is beneficial.\n",
      "2020-08-18 17:29:32,634 INFO: Division in beneficial mutation carrier.\n",
      "2020-08-18 17:29:32,636 INFO: Mutation 872 is beneficial.\n",
      "2020-08-18 17:29:33,887 INFO: All generations finished. Starting tumour reconstruction.\n",
      "2020-08-18 17:29:33,894 INFO: Reconstruction done,  get statistics.\n",
      "2020-08-18 17:29:34,114 INFO: Writing tumour matrix.\n",
      "2020-08-18 17:29:34,116 INFO: Exporting simulation data\n",
      "2020-08-18 17:29:34,125 INFO: Writing histograms.\n",
      "2020-08-18 17:29:34,284 INFO: Growth curve graph written to out_2/cancer_1/simOutput/growthCurve.pdf.\n",
      "2020-08-18 17:29:34,750 INFO: CancerSim run has finished.\n",
      "2020-08-18 17:29:34,752 INFO: Simulation output written to: out_2/cancer_1/simOutput.\n",
      "2020-08-18 17:29:34,754 INFO: Log files written to: out_2/cancer_1/log.\n",
      "2020-08-18 17:29:34,755 INFO: Consumed Wall time of this run: 2.276351 s.\n"
     ]
    },
    {
     "data": {
      "text/plain": [
       "0"
      ]
     },
     "execution_count": 50,
     "metadata": {},
     "output_type": "execute_result"
    }
   ],
   "source": [
    "cancer_sim.run()"
   ]
  },
  {
   "cell_type": "markdown",
   "metadata": {},
   "source": [
    "## Visualize the first stage of the run"
   ]
  },
  {
   "cell_type": "code",
   "execution_count": 51,
   "metadata": {},
   "outputs": [],
   "source": [
    "image_path=os.path.join(outdir,'cancer_1', 'simOutput')"
   ]
  },
  {
   "cell_type": "code",
   "execution_count": 52,
   "metadata": {},
   "outputs": [],
   "source": [
    "pdfs = glob(os.path.join(image_path,\"*.pdf\"))"
   ]
  },
  {
   "cell_type": "code",
   "execution_count": 53,
   "metadata": {},
   "outputs": [
    {
     "name": "stdout",
     "output_type": "stream",
     "text": [
      "out_2/cancer_1/simOutput/growthCurve.pdf\n"
     ]
    },
    {
     "data": {
      "image/png": "[encoded data removed]",
      "text/plain": [
       "<wand.image.Image: 0998b66 'PDF' (432x288)>"
      ]
     },
     "metadata": {},
     "output_type": "display_data"
    },
    {
     "name": "stdout",
     "output_type": "stream",
     "text": [
      "out_2/cancer_1/simOutput/sampleHistogram_48_59.pdf\n"
     ]
    },
    {
     "data": {
      "image/png": "[encoded data removed]",
      "text/plain": [
       "<wand.image.Image: 6d544dd 'PDF' (432x288)>"
      ]
     },
     "metadata": {},
     "output_type": "display_data"
    },
    {
     "name": "stdout",
     "output_type": "stream",
     "text": [
      "out_2/cancer_1/simOutput/wholeTumourVAFHistogram.pdf\n"
     ]
    },
    {
     "data": {
      "image/png": "[encoded data removed]",
      "text/plain": [
       "<wand.image.Image: d04965e 'PDF' (432x288)>"
      ]
     },
     "metadata": {},
     "output_type": "display_data"
    }
   ],
   "source": [
    "for pdf in pdfs:\n",
    "    print(pdf)\n",
    "    display(WImage(filename=pdf))"
   ]
  },
  {
   "cell_type": "code",
   "execution_count": 54,
   "metadata": {},
   "outputs": [],
   "source": [
    "# Load the mutation matrix\n",
    "mtx=unpickle('mtx.p', outdir).toarray()"
   ]
  },
  {
   "cell_type": "code",
   "execution_count": 56,
   "metadata": {},
   "outputs": [
    {
     "data": {
      "text/plain": [
       "<matplotlib.colorbar.Colorbar at 0x7f2332fcc550>"
      ]
     },
     "execution_count": 56,
     "metadata": {},
     "output_type": "execute_result"
    },
    {
     "data": {
      "image/png": "[encoded data removed]",
      "text/plain": [
       "<Figure size 288x288 with 2 Axes>"
      ]
     },
     "metadata": {
      "needs_background": "light"
     },
     "output_type": "display_data"
    }
   ],
   "source": [
    "# Plot the tumour as a 2D map color coding the mutation ID\n",
    "cmap = pyplot.cm.get_cmap('PRGn')\n",
    "\n",
    "pyplot.matshow(mtx, cmap=cmap)\n",
    "pyplot.colorbar()"
   ]
  },
  {
   "cell_type": "code",
   "execution_count": null,
   "metadata": {},
   "outputs": [],
   "source": []
  },
  {
   "cell_type": "code",
   "execution_count": null,
   "metadata": {},
   "outputs": [],
   "source": []
  }
 ],
 "metadata": {
  "kernelspec": {
   "display_name": "Python 3",
   "language": "python",
   "name": "python3"
  },
  "language_info": {
   "codemirror_mode": {
    "name": "ipython",
    "version": 3
   },
   "file_extension": ".py",
   "mimetype": "text/x-python",
   "name": "python",
   "nbconvert_exporter": "python",
   "pygments_lexer": "ipython3",
   "version": "3.7.3"
  }
 },
 "nbformat": 4,
 "nbformat_minor": 2
}
