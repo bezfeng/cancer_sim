{
 "cells": [
  {
   "cell_type": "markdown",
   "metadata": {},
   "source": [
    "## Import modules "
   ]
  },
  {
   "cell_type": "code",
   "execution_count": 1,
   "metadata": {},
   "outputs": [],
   "source": [
    "# The cancer simulation module.\n",
    "from casim import casim"
   ]
  },
  {
   "cell_type": "code",
   "execution_count": 2,
   "metadata": {},
   "outputs": [],
   "source": [
    "#  3rd party modules.\n",
    "import os, shutil\n",
    "from wand.image import Image as WImage\n",
    "from glob import glob"
   ]
  },
  {
   "cell_type": "code",
   "execution_count": 3,
   "metadata": {},
   "outputs": [],
   "source": [
    "import pickle\n",
    "from matplotlib import pyplot"
   ]
  },
  {
   "cell_type": "code",
   "execution_count": 4,
   "metadata": {},
   "outputs": [],
   "source": [
    "def unpickle(file):\n",
    "\n",
    "    with open(os.path.join(cancer_sim._CancerSimulator__simdir, file),'rb') as fp:\n",
    "        return pickle.load(fp)"
   ]
  },
  {
   "cell_type": "markdown",
   "metadata": {},
   "source": [
    "## Setup parameters for run 1 (all adv. parameters=0)\n",
    "Initially, cells with advantageous mutations divide only seldomly, the tumour is dormant."
   ]
  },
  {
   "cell_type": "code",
   "execution_count": 14,
   "metadata": {},
   "outputs": [],
   "source": [
    "parameters=casim.CancerSimulatorParameters(\n",
    "                                matrix_size=200,\n",
    "                                number_of_generations=20,\n",
    "                                division_probability=1.0,\n",
    "                                adv_mutant_division_probability=0.0,\n",
    "                                death_probability=0.1,\n",
    "                                adv_mutant_death_probability=0.0,\n",
    "                                mutation_probability=0.2,\n",
    "                                adv_mutant_mutation_probability=0.0,\n",
    "                                number_of_mutations_per_division=10,\n",
    "                                adv_mutation_wait_time=1,\n",
    "                                number_of_initial_mutations=2,\n",
    "                                sampling_fraction=0.9,\n",
    "                                plot_tumour_growth=True,\n",
    "                                export_tumour=True\n",
    "                               )"
   ]
  },
  {
   "cell_type": "markdown",
   "metadata": {},
   "source": [
    "## Setup the simulation engine. "
   ]
  },
  {
   "cell_type": "code",
   "execution_count": 15,
   "metadata": {},
   "outputs": [],
   "source": [
    "outdir = 'out_1'\n",
    "if os.path.isdir(outdir):\n",
    "    shutil.rmtree(outdir)"
   ]
  },
  {
   "cell_type": "code",
   "execution_count": 16,
   "metadata": {},
   "outputs": [
    {
     "name": "stderr",
     "output_type": "stream",
     "text": [
      "2020-08-14 08:59:02,391 INFO: Running in single tumour mode.\n",
      "2020-08-14 08:59:02,393 INFO: First cell at (100, 100).\n"
     ]
    }
   ],
   "source": [
    "cancer_sim = casim.CancerSimulator(parameters, seed=1, outdir=outdir)"
   ]
  },
  {
   "cell_type": "markdown",
   "metadata": {},
   "source": [
    "## Run the simulation "
   ]
  },
  {
   "cell_type": "code",
   "execution_count": 17,
   "metadata": {
    "scrolled": true
   },
   "outputs": [
    {
     "name": "stderr",
     "output_type": "stream",
     "text": [
      "2020-08-14 08:59:04,629 INFO: Ready to start CancerSim run with these parameters:\n",
      "2020-08-14 08:59:04,631 INFO: matrix_size = 200\n",
      "2020-08-14 08:59:04,632 INFO: number_of_generations = 20\n",
      "2020-08-14 08:59:04,633 INFO: division_probability = 1.0\n",
      "2020-08-14 08:59:04,634 INFO: adv_mutant_division_probability = 0.0\n",
      "2020-08-14 08:59:04,634 INFO: death_probability = 0.1\n",
      "2020-08-14 08:59:04,636 INFO: adv_mutant_death_probability = 0.0\n",
      "2020-08-14 08:59:04,637 INFO: mutation_probability = 0.2\n",
      "2020-08-14 08:59:04,638 INFO: adv_mutant_mutation_probability = 0.0\n",
      "2020-08-14 08:59:04,639 INFO: number_of_mutations_per_division = 10\n",
      "2020-08-14 08:59:04,640 INFO: adv_mutation_wait_time = 1\n",
      "2020-08-14 08:59:04,642 INFO: number_of_initial_mutations = 2\n",
      "2020-08-14 08:59:04,643 INFO: tumour_multiplicity = single\n",
      "2020-08-14 08:59:04,644 INFO: read_depth = 100\n",
      "2020-08-14 08:59:04,645 INFO: sampling_fraction = 0.9\n",
      "2020-08-14 08:59:04,646 INFO: plot_tumour_growth = True\n",
      "2020-08-14 08:59:04,647 INFO: export_tumour = True\n",
      "2020-08-14 08:59:04,648 INFO: Tumour growth in progress.\n",
      "2020-08-14 08:59:04,829 INFO: All generations finished. Starting tumour reconstruction.\n",
      "2020-08-14 08:59:04,834 INFO: Reconstruction done,  get statistics.\n",
      "2020-08-14 08:59:04,850 INFO: Exporting simulation data\n",
      "2020-08-14 08:59:05,033 INFO: Growth curve graph written to out_1/cancer_1/simOutput/growthCurve.pdf.\n",
      "2020-08-14 08:59:05,421 INFO: CancerSim run has finished.\n",
      "2020-08-14 08:59:05,423 INFO: Simulation output written to: out_1/cancer_1/simOutput.\n",
      "2020-08-14 08:59:05,423 INFO: Log files written to: out_1/cancer_1/log.\n",
      "2020-08-14 08:59:05,424 INFO: Consumed Wall time of this run: 0.772615 s.\n"
     ]
    },
    {
     "data": {
      "text/plain": [
       "0"
      ]
     },
     "execution_count": 17,
     "metadata": {},
     "output_type": "execute_result"
    }
   ],
   "source": [
    "cancer_sim.run()"
   ]
  },
  {
   "cell_type": "markdown",
   "metadata": {},
   "source": [
    "## Visualize the first stage of the run"
   ]
  },
  {
   "cell_type": "code",
   "execution_count": 18,
   "metadata": {},
   "outputs": [],
   "source": [
    "image_path=os.path.join(cancer_sim.outdir,'cancer_1', 'simOutput')"
   ]
  },
  {
   "cell_type": "code",
   "execution_count": 19,
   "metadata": {},
   "outputs": [],
   "source": [
    "pdfs = glob(os.path.join(image_path,\"*.pdf\"))"
   ]
  },
  {
   "cell_type": "code",
   "execution_count": 20,
   "metadata": {},
   "outputs": [
    {
     "name": "stdout",
     "output_type": "stream",
     "text": [
      "out_1/cancer_1/simOutput/growthCurve.pdf\n"
     ]
    },
    {
     "data": {
      "image/png": "[encoded data removed]",
      "text/plain": [
       "<wand.image.Image: 1945e99 'PDF' (432x288)>"
      ]
     },
     "metadata": {},
     "output_type": "display_data"
    },
    {
     "name": "stdout",
     "output_type": "stream",
     "text": [
      "out_1/cancer_1/simOutput/sampleHistogram_110_97.pdf\n"
     ]
    },
    {
     "data": {
      "image/png": "[encoded data removed]",
      "text/plain": [
       "<wand.image.Image: a64c9f1 'PDF' (432x288)>"
      ]
     },
     "metadata": {},
     "output_type": "display_data"
    },
    {
     "name": "stdout",
     "output_type": "stream",
     "text": [
      "out_1/cancer_1/simOutput/wholeTumourVAFHistogram.pdf\n"
     ]
    },
    {
     "data": {
      "image/png": "[encoded data removed]",
      "text/plain": [
       "<wand.image.Image: 9adaa7f 'PDF' (432x288)>"
      ]
     },
     "metadata": {},
     "output_type": "display_data"
    }
   ],
   "source": [
    "for pdf in pdfs:\n",
    "    print(pdf)\n",
    "    display(WImage(filename=pdf))"
   ]
  },
  {
   "cell_type": "code",
   "execution_count": 21,
   "metadata": {},
   "outputs": [],
   "source": [
    "# Load the mutation matrix\n",
    "mtx=unpickle('mtx.p').toarray()"
   ]
  },
  {
   "cell_type": "code",
   "execution_count": 22,
   "metadata": {},
   "outputs": [
    {
     "data": {
      "text/plain": [
       "<matplotlib.colorbar.Colorbar at 0x7f0e348b5128>"
      ]
     },
     "execution_count": 22,
     "metadata": {},
     "output_type": "execute_result"
    },
    {
     "data": {
      "image/png": "[encoded data removed]",
      "text/plain": [
       "<Figure size 288x288 with 2 Axes>"
      ]
     },
     "metadata": {
      "needs_background": "light"
     },
     "output_type": "display_data"
    }
   ],
   "source": [
    "# Plot the tumour as a 2D map color coding the mutation ID\n",
    "cmap = pyplot.cm.get_cmap('PRGn', mtx.max()+1)\n",
    "\n",
    "pyplot.matshow(mtx, cmap=cmap)\n",
    "pyplot.colorbar()"
   ]
  },
  {
   "cell_type": "markdown",
   "metadata": {},
   "source": [
    "## Setup parameters for run 2 (all adv. parameters=1)\n"
   ]
  },
  {
   "cell_type": "code",
   "execution_count": 23,
   "metadata": {},
   "outputs": [],
   "source": [
    "parameters=casim.CancerSimulatorParameters(\n",
    "                                matrix_size=200,\n",
    "                                number_of_generations=20,\n",
    "                                division_probability=1.0,\n",
    "                                adv_mutant_division_probability=1.0,\n",
    "                                death_probability=0.1,\n",
    "                                adv_mutant_death_probability=0.0,\n",
    "                                mutation_probability=0.2,\n",
    "                                adv_mutant_mutation_probability=1.0,\n",
    "                                number_of_mutations_per_division=10,\n",
    "                                adv_mutation_wait_time=1,\n",
    "                                number_of_initial_mutations=2,\n",
    "                                sampling_fraction=0.9,\n",
    "                                plot_tumour_growth=True,\n",
    "                                export_tumour=True\n",
    "                               )"
   ]
  },
  {
   "cell_type": "markdown",
   "metadata": {},
   "source": [
    "## Setup the simulation engine. "
   ]
  },
  {
   "cell_type": "code",
   "execution_count": 24,
   "metadata": {},
   "outputs": [],
   "source": [
    "outdir = 'out_2'\n",
    "if os.path.isdir(outdir):\n",
    "    shutil.rmtree(outdir)"
   ]
  },
  {
   "cell_type": "code",
   "execution_count": 25,
   "metadata": {},
   "outputs": [
    {
     "name": "stderr",
     "output_type": "stream",
     "text": [
      "2020-08-14 08:59:34,679 INFO: Running in single tumour mode.\n",
      "2020-08-14 08:59:34,681 INFO: First cell at (100, 100).\n"
     ]
    }
   ],
   "source": [
    "cancer_sim = casim.CancerSimulator(parameters, seed=1, outdir=outdir)"
   ]
  },
  {
   "cell_type": "markdown",
   "metadata": {},
   "source": [
    "## Run the simulation "
   ]
  },
  {
   "cell_type": "code",
   "execution_count": 26,
   "metadata": {
    "scrolled": true
   },
   "outputs": [
    {
     "name": "stderr",
     "output_type": "stream",
     "text": [
      "2020-08-14 08:59:37,652 INFO: Ready to start CancerSim run with these parameters:\n",
      "2020-08-14 08:59:37,656 INFO: matrix_size = 200\n",
      "2020-08-14 08:59:37,657 INFO: number_of_generations = 20\n",
      "2020-08-14 08:59:37,660 INFO: division_probability = 1.0\n",
      "2020-08-14 08:59:37,662 INFO: adv_mutant_division_probability = 1.0\n",
      "2020-08-14 08:59:37,664 INFO: death_probability = 0.1\n",
      "2020-08-14 08:59:37,665 INFO: adv_mutant_death_probability = 0.0\n",
      "2020-08-14 08:59:37,667 INFO: mutation_probability = 0.2\n",
      "2020-08-14 08:59:37,668 INFO: adv_mutant_mutation_probability = 1.0\n",
      "2020-08-14 08:59:37,669 INFO: number_of_mutations_per_division = 10\n",
      "2020-08-14 08:59:37,670 INFO: adv_mutation_wait_time = 1\n",
      "2020-08-14 08:59:37,671 INFO: number_of_initial_mutations = 2\n",
      "2020-08-14 08:59:37,673 INFO: tumour_multiplicity = single\n",
      "2020-08-14 08:59:37,674 INFO: read_depth = 100\n",
      "2020-08-14 08:59:37,676 INFO: sampling_fraction = 0.9\n",
      "2020-08-14 08:59:37,677 INFO: plot_tumour_growth = True\n",
      "2020-08-14 08:59:37,678 INFO: export_tumour = True\n",
      "2020-08-14 08:59:37,679 INFO: Tumour growth in progress.\n",
      "2020-08-14 08:59:37,857 INFO: All generations finished. Starting tumour reconstruction.\n",
      "2020-08-14 08:59:37,862 INFO: Reconstruction done,  get statistics.\n",
      "2020-08-14 08:59:37,878 INFO: Exporting simulation data\n",
      "2020-08-14 08:59:38,057 INFO: Growth curve graph written to out_2/cancer_1/simOutput/growthCurve.pdf.\n",
      "2020-08-14 08:59:38,474 INFO: CancerSim run has finished.\n",
      "2020-08-14 08:59:38,476 INFO: Simulation output written to: out_2/cancer_1/simOutput.\n",
      "2020-08-14 08:59:38,477 INFO: Log files written to: out_2/cancer_1/log.\n",
      "2020-08-14 08:59:38,478 INFO: Consumed Wall time of this run: 0.793564 s.\n"
     ]
    },
    {
     "data": {
      "text/plain": [
       "0"
      ]
     },
     "execution_count": 26,
     "metadata": {},
     "output_type": "execute_result"
    }
   ],
   "source": [
    "cancer_sim.run()"
   ]
  },
  {
   "cell_type": "markdown",
   "metadata": {},
   "source": [
    "## Visualize the first stage of the run"
   ]
  },
  {
   "cell_type": "code",
   "execution_count": 27,
   "metadata": {},
   "outputs": [],
   "source": [
    "image_path=os.path.join(cancer_sim.outdir,'cancer_1', 'simOutput')"
   ]
  },
  {
   "cell_type": "code",
   "execution_count": 28,
   "metadata": {},
   "outputs": [],
   "source": [
    "pdfs = glob(os.path.join(image_path,\"*.pdf\"))"
   ]
  },
  {
   "cell_type": "code",
   "execution_count": 29,
   "metadata": {},
   "outputs": [
    {
     "name": "stdout",
     "output_type": "stream",
     "text": [
      "out_2/cancer_1/simOutput/growthCurve.pdf\n"
     ]
    },
    {
     "data": {
      "image/png": "[encoded data removed]",
      "text/plain": [
       "<wand.image.Image: 1945e99 'PDF' (432x288)>"
      ]
     },
     "metadata": {},
     "output_type": "display_data"
    },
    {
     "name": "stdout",
     "output_type": "stream",
     "text": [
      "out_2/cancer_1/simOutput/wholeTumourVAFHistogram.pdf\n"
     ]
    },
    {
     "data": {
      "image/png": "[encoded data removed]",
      "text/plain": [
       "<wand.image.Image: 980d328 'PDF' (432x288)>"
      ]
     },
     "metadata": {},
     "output_type": "display_data"
    },
    {
     "name": "stdout",
     "output_type": "stream",
     "text": [
      "out_2/cancer_1/simOutput/sampleHistogram_98_90.pdf\n"
     ]
    },
    {
     "data": {
      "image/png": "[encoded data removed]",
      "text/plain": [
       "<wand.image.Image: 85f9e22 'PDF' (432x288)>"
      ]
     },
     "metadata": {},
     "output_type": "display_data"
    }
   ],
   "source": [
    "for pdf in pdfs:\n",
    "    print(pdf)\n",
    "    display(WImage(filename=pdf))"
   ]
  },
  {
   "cell_type": "code",
   "execution_count": 30,
   "metadata": {},
   "outputs": [],
   "source": [
    "# Load the mutation matrix\n",
    "mtx=unpickle('mtx.p').toarray()"
   ]
  },
  {
   "cell_type": "code",
   "execution_count": 31,
   "metadata": {},
   "outputs": [
    {
     "data": {
      "text/plain": [
       "<matplotlib.colorbar.Colorbar at 0x7f0e2b90b4e0>"
      ]
     },
     "execution_count": 31,
     "metadata": {},
     "output_type": "execute_result"
    },
    {
     "data": {
      "image/png": "[encoded data removed]",
      "text/plain": [
       "<Figure size 288x288 with 2 Axes>"
      ]
     },
     "metadata": {
      "needs_background": "light"
     },
     "output_type": "display_data"
    }
   ],
   "source": [
    "# Plot the tumour as a 2D map color coding the mutation ID\n",
    "cmap = pyplot.cm.get_cmap('PRGn', mtx.max()+1)\n",
    "\n",
    "pyplot.matshow(mtx, cmap=cmap)\n",
    "pyplot.colorbar()"
   ]
  },
  {
   "cell_type": "code",
   "execution_count": null,
   "metadata": {},
   "outputs": [],
   "source": []
  }
 ],
 "metadata": {
  "kernelspec": {
   "display_name": "Python 3",
   "language": "python",
   "name": "python3"
  },
  "language_info": {
   "codemirror_mode": {
    "name": "ipython",
    "version": 3
   },
   "file_extension": ".py",
   "mimetype": "text/x-python",
   "name": "python",
   "nbconvert_exporter": "python",
   "pygments_lexer": "ipython3",
   "version": "3.7.3"
  }
 },
 "nbformat": 4,
 "nbformat_minor": 2
}
