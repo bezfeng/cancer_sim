{
 "cells": [
  {
   "cell_type": "markdown",
   "metadata": {},
   "source": [
    "# Dump and reload example\n",
    "This notebook illustrates how to dump a cancer simulation to disk, reload it, and continue with changed parameters. This feature allows to model different stages of tumour growth characterized by varying growth parameters (e.g. `death_probability` and `adv_mutant_division_probability`)."
   ]
  },
  {
   "cell_type": "markdown",
   "metadata": {},
   "source": [
    "## Import modules "
   ]
  },
  {
   "cell_type": "code",
   "execution_count": 1,
   "metadata": {},
   "outputs": [],
   "source": [
    "# The cancer simulation module.\n",
    "from casim import casim"
   ]
  },
  {
   "cell_type": "code",
   "execution_count": 2,
   "metadata": {},
   "outputs": [],
   "source": [
    "#  3rd party modules.\n",
    "import os, shutil\n",
    "from wand.image import Image as WImage\n",
    "from glob import glob"
   ]
  },
  {
   "cell_type": "code",
   "execution_count": 3,
   "metadata": {},
   "outputs": [],
   "source": [
    "import pickle\n",
    "from matplotlib import pyplot"
   ]
  },
  {
   "cell_type": "markdown",
   "metadata": {},
   "source": [
    "## Define some utility functions"
   ]
  },
  {
   "cell_type": "code",
   "execution_count": 4,
   "metadata": {},
   "outputs": [],
   "source": [
    "def unpickle(sim, pkl):\n",
    "\n",
    "    with open(os.path.join(sim._CancerSimulator__simdir, pkl),'rb') as fp:\n",
    "        return pickle.load(fp)"
   ]
  },
  {
   "cell_type": "code",
   "execution_count": 5,
   "metadata": {},
   "outputs": [],
   "source": [
    "def clear_outdir(dir):\n",
    "    if os.path.isdir(dir):\n",
    "        shutil.rmtree(dir)"
   ]
  },
  {
   "cell_type": "markdown",
   "metadata": {},
   "source": [
    "## Setup parameters \n",
    "Initially, cells with advantageous mutations divide only seldomly, the tumour is dormant."
   ]
  },
  {
   "cell_type": "code",
   "execution_count": 22,
   "metadata": {},
   "outputs": [],
   "source": [
    "parameters=casim.CancerSimulatorParameters(\n",
    "                                matrix_size=200,\n",
    "                                number_of_generations=50,\n",
    "                                division_probability=0.6,\n",
    "                                adv_mutant_division_probability=0.5,\n",
    "                                death_probability=0.3,\n",
    "                                adv_mutant_death_probability=0.05,\n",
    "                                mutation_probability=0.5,\n",
    "                                adv_mutant_mutation_probability=1.0,\n",
    "                                number_of_mutations_per_division=10,\n",
    "                                adv_mutation_wait_time=40,\n",
    "                                number_of_initial_mutations=2,\n",
    "                                sampling_fraction=0.9,\n",
    "                                plot_tumour_growth=True,\n",
    "                                export_tumour=True\n",
    "                               )"
   ]
  },
  {
   "cell_type": "markdown",
   "metadata": {},
   "source": [
    "## Setup the simulation engine. "
   ]
  },
  {
   "cell_type": "code",
   "execution_count": 23,
   "metadata": {},
   "outputs": [],
   "source": [
    "outdir = 'out'\n",
    "clear_outdir(outdir)"
   ]
  },
  {
   "cell_type": "code",
   "execution_count": 24,
   "metadata": {},
   "outputs": [
    {
     "name": "stderr",
     "output_type": "stream",
     "text": [
      "2020-08-19 12:29:15,983 INFO: Running in single tumour mode.\n",
      "2020-08-19 12:29:15,985 INFO: First cell at (100, 100).\n"
     ]
    }
   ],
   "source": [
    "cancer_sim = casim.CancerSimulator(parameters, seed=1, outdir='out/')"
   ]
  },
  {
   "cell_type": "markdown",
   "metadata": {},
   "source": [
    "## Run the simulation "
   ]
  },
  {
   "cell_type": "code",
   "execution_count": 25,
   "metadata": {
    "scrolled": true
   },
   "outputs": [
    {
     "name": "stderr",
     "output_type": "stream",
     "text": [
      "2020-08-19 12:29:16,398 INFO: Ready to start CancerSim run with these parameters:\n",
      "2020-08-19 12:29:16,400 INFO: matrix_size = 200\n",
      "2020-08-19 12:29:16,401 INFO: number_of_generations = 50\n",
      "2020-08-19 12:29:16,403 INFO: division_probability = 0.6\n",
      "2020-08-19 12:29:16,404 INFO: adv_mutant_division_probability = 0.5\n",
      "2020-08-19 12:29:16,405 INFO: death_probability = 0.3\n",
      "2020-08-19 12:29:16,406 INFO: adv_mutant_death_probability = 0.05\n",
      "2020-08-19 12:29:16,407 INFO: mutation_probability = 0.5\n",
      "2020-08-19 12:29:16,409 INFO: adv_mutant_mutation_probability = 1.0\n",
      "2020-08-19 12:29:16,410 INFO: number_of_mutations_per_division = 10\n",
      "2020-08-19 12:29:16,411 INFO: adv_mutation_wait_time = 40\n",
      "2020-08-19 12:29:16,412 INFO: number_of_initial_mutations = 2\n",
      "2020-08-19 12:29:16,413 INFO: tumour_multiplicity = single\n",
      "2020-08-19 12:29:16,414 INFO: read_depth = 100\n",
      "2020-08-19 12:29:16,415 INFO: sampling_fraction = 0.9\n",
      "2020-08-19 12:29:16,416 INFO: plot_tumour_growth = True\n",
      "2020-08-19 12:29:16,418 INFO: export_tumour = True\n",
      "2020-08-19 12:29:16,419 INFO: Tumour growth in progress.\n",
      "2020-08-19 12:29:16,621 INFO: New beneficial mutation: 2076\n",
      "2020-08-19 12:29:16,653 INFO: Division of beneficial mutation carrier. Cell index = (108, 110), mutation index = 2076, place_to_divide=(109, 111)\n",
      "2020-08-19 12:29:16,675 INFO: Division of beneficial mutation carrier. Cell index = (108, 110), mutation index = 2076, place_to_divide=(108, 111)\n",
      "2020-08-19 12:29:16,688 INFO: Division of beneficial mutation carrier. Cell index = (108, 111), mutation index = 2076, place_to_divide=(109, 110)\n",
      "2020-08-19 12:29:16,738 INFO: Division of beneficial mutation carrier. Cell index = (109, 111), mutation index = 2076, place_to_divide=(110, 111)\n",
      "2020-08-19 12:29:16,741 INFO: Division of beneficial mutation carrier. Cell index = (108, 111), mutation index = 2076, place_to_divide=(108, 112)\n",
      "2020-08-19 12:29:16,757 INFO: Division of beneficial mutation carrier. Cell index = (110, 111), mutation index = 2076, place_to_divide=(110, 112)\n",
      "2020-08-19 12:29:16,771 INFO: Division of beneficial mutation carrier. Cell index = (108, 111), mutation index = 2076, place_to_divide=(108, 112)\n",
      "2020-08-19 12:29:16,772 INFO: Mutation  of beneficial mutation carrier. Cell index = (108, 111), mutation index = 2076, place to divide = (108, 112)\n",
      "2020-08-19 12:29:16,789 INFO: Division of beneficial mutation carrier. Cell index = (110, 111), mutation index = 2076, place_to_divide=(111, 112)\n",
      "2020-08-19 12:29:16,790 INFO: Mutation  of beneficial mutation carrier. Cell index = (110, 111), mutation index = 2076, place to divide = (111, 112)\n",
      "2020-08-19 12:29:16,792 INFO: Division of beneficial mutation carrier. Cell index = (110, 112), mutation index = 2076, place_to_divide=(111, 113)\n",
      "2020-08-19 12:29:16,793 INFO: Mutation  of beneficial mutation carrier. Cell index = (110, 112), mutation index = 2076, place to divide = (111, 113)\n",
      "2020-08-19 12:29:16,878 INFO: All generations finished. Starting tumour reconstruction.\n",
      "2020-08-19 12:29:16,884 INFO: Reconstruction done,  get statistics.\n",
      "2020-08-19 12:29:17,206 INFO: Exporting simulation data\n",
      "2020-08-19 12:29:17,443 INFO: Growth curve graph written to out/cancer_1/simOutput/growthCurve.pdf.\n",
      "2020-08-19 12:29:18,021 INFO: CancerSim run has finished.\n",
      "2020-08-19 12:29:18,023 INFO: Simulation output written to: out/cancer_1/simOutput.\n",
      "2020-08-19 12:29:18,023 INFO: Log files written to: out/cancer_1/log.\n",
      "2020-08-19 12:29:18,024 INFO: Consumed Wall time of this run: 1.601802 s.\n"
     ]
    },
    {
     "data": {
      "text/plain": [
       "0"
      ]
     },
     "execution_count": 25,
     "metadata": {},
     "output_type": "execute_result"
    }
   ],
   "source": [
    "cancer_sim.run()"
   ]
  },
  {
   "cell_type": "markdown",
   "metadata": {},
   "source": [
    "## Visualize the first stage of the run"
   ]
  },
  {
   "cell_type": "code",
   "execution_count": 26,
   "metadata": {},
   "outputs": [],
   "source": [
    "pdfs = glob(os.path.join(cancer_sim.outdir,'cancer_1', 'simOutput',\"*.pdf\"))"
   ]
  },
  {
   "cell_type": "code",
   "execution_count": 27,
   "metadata": {},
   "outputs": [
    {
     "name": "stdout",
     "output_type": "stream",
     "text": [
      "out/cancer_1/simOutput/sampleHistogram_97_107.pdf\n"
     ]
    },
    {
     "data": {
      "image/png": "[encoded data removed]",
      "text/plain": [
       "<wand.image.Image: ae2d8d6 'PDF' (432x288)>"
      ]
     },
     "metadata": {},
     "output_type": "display_data"
    },
    {
     "name": "stdout",
     "output_type": "stream",
     "text": [
      "out/cancer_1/simOutput/growthCurve.pdf\n"
     ]
    },
    {
     "data": {
      "image/png": "[encoded data removed]",
      "text/plain": [
       "<wand.image.Image: 4fd9e91 'PDF' (432x288)>"
      ]
     },
     "metadata": {},
     "output_type": "display_data"
    },
    {
     "name": "stdout",
     "output_type": "stream",
     "text": [
      "out/cancer_1/simOutput/wholeTumourVAFHistogram.pdf\n"
     ]
    },
    {
     "data": {
      "image/png": "[encoded data removed]",
      "text/plain": [
       "<wand.image.Image: 669ba11 'PDF' (432x288)>"
      ]
     },
     "metadata": {},
     "output_type": "display_data"
    }
   ],
   "source": [
    "for pdf in pdfs:\n",
    "    print(pdf)\n",
    "    display(WImage(filename=pdf))"
   ]
  },
  {
   "cell_type": "markdown",
   "metadata": {},
   "source": [
    "## Load the mutation matrix"
   ]
  },
  {
   "cell_type": "code",
   "execution_count": 28,
   "metadata": {},
   "outputs": [],
   "source": [
    "mtx=unpickle(cancer_sim,'mtx.p').toarray()"
   ]
  },
  {
   "cell_type": "markdown",
   "metadata": {},
   "source": [
    "## Plot the tumour as a 2D map color coding the mutation ID"
   ]
  },
  {
   "cell_type": "code",
   "execution_count": 29,
   "metadata": {},
   "outputs": [
    {
     "data": {
      "text/plain": [
       "<matplotlib.colorbar.Colorbar at 0x7f3798e37390>"
      ]
     },
     "execution_count": 29,
     "metadata": {},
     "output_type": "execute_result"
    },
    {
     "data": {
      "image/png": "[encoded data removed]",
      "text/plain": [
       "<Figure size 288x288 with 2 Axes>"
      ]
     },
     "metadata": {
      "needs_background": "light"
     },
     "output_type": "display_data"
    }
   ],
   "source": [
    "cmap = pyplot.cm.get_cmap('PRGn', mtx.max()+1)\n",
    "\n",
    "pyplot.matshow(mtx, cmap=cmap)\n",
    "pyplot.colorbar()"
   ]
  },
  {
   "cell_type": "markdown",
   "metadata": {},
   "source": [
    "## Dump the simulation"
   ]
  },
  {
   "cell_type": "code",
   "execution_count": 30,
   "metadata": {},
   "outputs": [],
   "source": [
    "cancer_sim.dump()"
   ]
  },
  {
   "cell_type": "markdown",
   "metadata": {},
   "source": [
    "## Reload the simulation"
   ]
  },
  {
   "cell_type": "code",
   "execution_count": 31,
   "metadata": {},
   "outputs": [],
   "source": [
    "restart_with_mods = casim.load_cancer_simulation(cancer_sim.dumpfile)"
   ]
  },
  {
   "cell_type": "markdown",
   "metadata": {},
   "source": [
    "## Change adv. mutant properties and run for 20 more generations."
   ]
  },
  {
   "cell_type": "code",
   "execution_count": 32,
   "metadata": {},
   "outputs": [],
   "source": [
    "restart_with_mods.parameters.adv_mutant_division_probability = 1.0\n",
    "restart_with_mods.parameters.death_probability = 0.5\n",
    "restart_with_mods.parameters.number_of_generations = 20"
   ]
  },
  {
   "cell_type": "code",
   "execution_count": 33,
   "metadata": {},
   "outputs": [],
   "source": [
    "outdir = 'restart_with_mods'\n",
    "clear_outdir(outdir)\n",
    "\n",
    "restart_with_mods.outdir = outdir"
   ]
  },
  {
   "cell_type": "code",
   "execution_count": 34,
   "metadata": {},
   "outputs": [
    {
     "name": "stderr",
     "output_type": "stream",
     "text": [
      "2020-08-19 12:29:32,477 INFO: Ready to start CancerSim run with these parameters:\n",
      "2020-08-19 12:29:32,479 INFO: matrix_size = 200\n",
      "2020-08-19 12:29:32,481 INFO: number_of_generations = 20\n",
      "2020-08-19 12:29:32,482 INFO: division_probability = 0.6\n",
      "2020-08-19 12:29:32,483 INFO: adv_mutant_division_probability = 1.0\n",
      "2020-08-19 12:29:32,485 INFO: death_probability = 0.5\n",
      "2020-08-19 12:29:32,486 INFO: adv_mutant_death_probability = 0.05\n",
      "2020-08-19 12:29:32,487 INFO: mutation_probability = 0.5\n",
      "2020-08-19 12:29:32,489 INFO: adv_mutant_mutation_probability = 1.0\n",
      "2020-08-19 12:29:32,490 INFO: number_of_mutations_per_division = 10\n",
      "2020-08-19 12:29:32,491 INFO: adv_mutation_wait_time = 40\n",
      "2020-08-19 12:29:32,492 INFO: number_of_initial_mutations = 2\n",
      "2020-08-19 12:29:32,494 INFO: tumour_multiplicity = single\n",
      "2020-08-19 12:29:32,495 INFO: read_depth = 100\n",
      "2020-08-19 12:29:32,496 INFO: sampling_fraction = 0.9\n",
      "2020-08-19 12:29:32,497 INFO: plot_tumour_growth = True\n",
      "2020-08-19 12:29:32,498 INFO: export_tumour = True\n",
      "2020-08-19 12:29:32,499 INFO: Tumour growth in progress.\n",
      "2020-08-19 12:29:33,198 INFO: All generations finished. Starting tumour reconstruction.\n",
      "2020-08-19 12:29:33,209 INFO: Reconstruction done,  get statistics.\n",
      "2020-08-19 12:29:34,007 INFO: Exporting simulation data\n",
      "2020-08-19 12:29:34,184 INFO: Growth curve graph written to restart_with_mods/cancer_1/simOutput/growthCurve.pdf.\n",
      "2020-08-19 12:29:36,200 INFO: CancerSim run has finished.\n",
      "2020-08-19 12:29:36,202 INFO: Simulation output written to: restart_with_mods/cancer_1/simOutput.\n",
      "2020-08-19 12:29:36,202 INFO: Log files written to: restart_with_mods/cancer_1/log.\n",
      "2020-08-19 12:29:36,203 INFO: Consumed Wall time of this run: 3.699930 s.\n"
     ]
    },
    {
     "data": {
      "text/plain": [
       "0"
      ]
     },
     "execution_count": 34,
     "metadata": {},
     "output_type": "execute_result"
    }
   ],
   "source": [
    "restart_with_mods.run()"
   ]
  },
  {
   "cell_type": "markdown",
   "metadata": {},
   "source": [
    "## Output"
   ]
  },
  {
   "cell_type": "code",
   "execution_count": 35,
   "metadata": {},
   "outputs": [
    {
     "name": "stdout",
     "output_type": "stream",
     "text": [
      "restart_with_mods/cancer_1/simOutput/growthCurve.pdf\n"
     ]
    },
    {
     "data": {
      "image/png": "[encoded data removed]",
      "text/plain": [
       "<wand.image.Image: 5129106 'PDF' (432x288)>"
      ]
     },
     "metadata": {},
     "output_type": "display_data"
    },
    {
     "name": "stdout",
     "output_type": "stream",
     "text": [
      "restart_with_mods/cancer_1/simOutput/wholeTumourVAFHistogram.pdf\n"
     ]
    },
    {
     "data": {
      "image/png": "[encoded data removed]",
      "text/plain": [
       "<wand.image.Image: 49d9bf7 'PDF' (432x288)>"
      ]
     },
     "metadata": {},
     "output_type": "display_data"
    },
    {
     "name": "stdout",
     "output_type": "stream",
     "text": [
      "restart_with_mods/cancer_1/simOutput/sampleHistogram_86_78.pdf\n"
     ]
    },
    {
     "data": {
      "image/png": "[encoded data removed]",
      "text/plain": [
       "<wand.image.Image: a126440 'PDF' (432x288)>"
      ]
     },
     "metadata": {},
     "output_type": "display_data"
    }
   ],
   "source": [
    "pdfs = glob(os.path.join(restart_with_mods.outdir,'cancer_1', 'simOutput',\"*.pdf\"))\n",
    "for pdf in pdfs:\n",
    "    print(pdf)\n",
    "    display(WImage(filename=pdf))"
   ]
  },
  {
   "cell_type": "code",
   "execution_count": 20,
   "metadata": {},
   "outputs": [],
   "source": [
    "# Load the mutation matrix\n",
    "mtx=unpickle(restart_with_mods, 'mtx.p').toarray()"
   ]
  },
  {
   "cell_type": "code",
   "execution_count": 21,
   "metadata": {},
   "outputs": [
    {
     "data": {
      "text/plain": [
       "<matplotlib.colorbar.Colorbar at 0x7f37961dc668>"
      ]
     },
     "execution_count": 21,
     "metadata": {},
     "output_type": "execute_result"
    },
    {
     "data": {
      "image/png": "[encoded data removed]",
      "text/plain": [
       "<Figure size 288x288 with 2 Axes>"
      ]
     },
     "metadata": {
      "needs_background": "light"
     },
     "output_type": "display_data"
    }
   ],
   "source": [
    "# Plot the tumour as a 2D map color coding the mutation ID\n",
    "cmap = pyplot.cm.get_cmap('PRGn', mtx.max()+1)\n",
    "\n",
    "pyplot.matshow(mtx, cmap=cmap)\n",
    "pyplot.colorbar()"
   ]
  },
  {
   "cell_type": "code",
   "execution_count": null,
   "metadata": {},
   "outputs": [],
   "source": []
  }
 ],
 "metadata": {
  "kernelspec": {
   "display_name": "Python 3",
   "language": "python",
   "name": "python3"
  },
  "language_info": {
   "codemirror_mode": {
    "name": "ipython",
    "version": 3
   },
   "file_extension": ".py",
   "mimetype": "text/x-python",
   "name": "python",
   "nbconvert_exporter": "python",
   "pygments_lexer": "ipython3",
   "version": "3.7.3"
  }
 },
 "nbformat": 4,
 "nbformat_minor": 2
}
