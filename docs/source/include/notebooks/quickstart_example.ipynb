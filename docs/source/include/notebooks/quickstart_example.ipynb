{
 "cells": [
  {
   "cell_type": "markdown",
   "metadata": {},
   "source": [
    "# Quickstart example for cancer simulation "
   ]
  },
  {
   "cell_type": "markdown",
   "metadata": {},
   "source": [
    "## Import modules "
   ]
  },
  {
   "cell_type": "code",
   "execution_count": 1,
   "metadata": {},
   "outputs": [
    {
     "name": "stdout",
     "output_type": "stream",
     "text": [
      "/opt/data/repos/cancer_software\n",
      "Obtaining file:///opt/data/repos/cancer_software\n",
      "Installing collected packages: CaSim\n",
      "  Found existing installation: CaSim 1.0.0\n",
      "    Uninstalling CaSim-1.0.0:\n",
      "      Successfully uninstalled CaSim-1.0.0\n",
      "  Running setup.py develop for CaSim\n",
      "Successfully installed CaSim\n",
      "Note: you may need to restart the kernel to use updated packages.\n",
      "/opt/data/repos/cancer_software/docs/source/include/notebooks\n"
     ]
    }
   ],
   "source": [
    "### Uncomment and execute if the next cell fails with \"module not found\".` Then reload the kernel.\n",
    "%cd ../../../..\n",
    "%pip install -e .\n",
    "%cd -"
   ]
  },
  {
   "cell_type": "code",
   "execution_count": 2,
   "metadata": {},
   "outputs": [],
   "source": [
    "# The cancer simulation module.\n",
    "from casim import casim"
   ]
  },
  {
   "cell_type": "code",
   "execution_count": 3,
   "metadata": {},
   "outputs": [],
   "source": [
    "#  3rd party modules.\n",
    "import os, shutil\n",
    "from wand.image import Image as WImage"
   ]
  },
  {
   "cell_type": "markdown",
   "metadata": {},
   "source": [
    "## Setup parameters "
   ]
  },
  {
   "cell_type": "code",
   "execution_count": 3,
   "metadata": {},
   "outputs": [],
   "source": [
    "parameters=casim.CancerSimulatorParameters(\n",
    "                                matrix_size=20,\n",
    "                                number_of_generations=10,\n",
    "                                division_probability=0.5,\n",
    "                                advantageous_division_probability=0.8,\n",
    "                                death_probability=0.1,\n",
    "                                advantageous_death_probability=0.4,\n",
    "                                mutation_probability=0.2,\n",
    "                                advantageous_mutation_probability=0.8,\n",
    "                                mutations_per_division=10,\n",
    "                                time_of_advantageous_mutation=30000,\n",
    "                                number_of_clonal=2,\n",
    "                                plot_tumour_growth=True,\n",
    "                                export_tumour=True\n",
    "                               )"
   ]
  },
  {
   "cell_type": "markdown",
   "metadata": {},
   "source": [
    "## Setup the simulation engine. "
   ]
  },
  {
   "cell_type": "code",
   "execution_count": 4,
   "metadata": {},
   "outputs": [],
   "source": [
    "if os.path.isdir('out'):\n",
    "    shutil.rmtree('out')"
   ]
  },
  {
   "cell_type": "code",
   "execution_count": 5,
   "metadata": {},
   "outputs": [],
   "source": [
    "cancer_sim = casim.CancerSimulator(parameters, seed=1, outdir='out/')"
   ]
  },
  {
   "cell_type": "markdown",
   "metadata": {},
   "source": [
    "## Run the simulation "
   ]
  },
  {
   "cell_type": "code",
   "execution_count": 6,
   "metadata": {},
   "outputs": [
    {
     "data": {
      "text/plain": [
       "0"
      ]
     },
     "execution_count": 6,
     "metadata": {},
     "output_type": "execute_result"
    },
    {
     "data": {
      "text/plain": [
       "<Figure size 432x288 with 0 Axes>"
      ]
     },
     "metadata": {},
     "output_type": "display_data"
    }
   ],
   "source": [
    "cancer_sim.run()"
   ]
  },
  {
   "cell_type": "markdown",
   "metadata": {},
   "source": [
    "## Display the growth curve. "
   ]
  },
  {
   "cell_type": "code",
   "execution_count": 7,
   "metadata": {
    "scrolled": true
   },
   "outputs": [],
   "source": [
    "image_path=os.path.join(cancer_sim.outdir,'cancer_1', 'simOutput', 'growthCurve.pdf')"
   ]
  },
  {
   "cell_type": "code",
   "execution_count": 8,
   "metadata": {},
   "outputs": [],
   "source": [
    "img = WImage(filename=image_path)"
   ]
  },
  {
   "cell_type": "code",
   "execution_count": 9,
   "metadata": {},
   "outputs": [
    {
     "data": {
      "image/png": "[encoded data removed]",
      "text/plain": [
       "<wand.image.Image: 06f6f8f 'PDF' (432x288)>"
      ]
     },
     "metadata": {},
     "output_type": "display_data"
    }
   ],
   "source": [
    "display(img)"
   ]
  },
  {
   "cell_type": "code",
   "execution_count": null,
   "metadata": {},
   "outputs": [],
   "source": []
  }
 ],
 "metadata": {
  "kernelspec": {
   "display_name": "Python [conda env:casim] *",
   "language": "python",
   "name": "conda-env-casim-py"
  },
  "language_info": {
   "codemirror_mode": {
    "name": "ipython",
    "version": 3
   },
   "file_extension": ".py",
   "mimetype": "text/x-python",
   "name": "python",
   "nbconvert_exporter": "python",
   "pygments_lexer": "ipython3",
   "version": "3.7.3"
  }
 },
 "nbformat": 4,
 "nbformat_minor": 2
}
