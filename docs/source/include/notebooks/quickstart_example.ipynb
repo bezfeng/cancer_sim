{
 "cells": [
  {
   "cell_type": "markdown",
   "metadata": {},
   "source": [
    "# Quickstart example for cancer simulation \n",
    "This notebook illustrates how to run a 2D cancer simulation using CancerSim. It's a rather contrieved example with no actual scientific background. It's main purpose is to give a simple example to be used as a template for more complex simulation runs. It also demonstrates how to parametrize the simulation through the `CancerSimulationParameters` API instead of the `params.py` module.\n",
    "\n",
    "The simulation treats a 2D tumour on a 20x20 grid for 10 generations. Healthy cells and cancer cells differ by their division probabilities (0.5 vs 0.8), death probabilities (0.1 vs. 0.4), and mutation probabilities (0.2 vs. 0.8). The first cancer cell carries 2 mutations, new mutations occur with a 20% probability and 10 fold abundance. The first advantageous mutation occurs in the 3rd generation. We sample 10% of the tumour at a read depth of 100.\n",
    "\n",
    "After the run, we plot the tumour growth curve and the mutation frequency histograms for the whole tumour and the sampled tumour."
   ]
  },
  {
   "cell_type": "markdown",
   "metadata": {},
   "source": [
    "## Import modules "
   ]
  },
  {
   "cell_type": "code",
   "execution_count": 6,
   "metadata": {},
   "outputs": [],
   "source": [
    "# The cancer simulation module.\n",
    "from casim import casim\n",
    "import logging"
   ]
  },
  {
   "cell_type": "code",
   "execution_count": 2,
   "metadata": {},
   "outputs": [],
   "source": [
    "#  3rd party modules.\n",
    "import os, shutil\n",
    "from wand.image import Image as WImage # To render pdf images in nb.\n",
    "from glob import glob"
   ]
  },
  {
   "cell_type": "markdown",
   "metadata": {},
   "source": [
    "## Setup parameters "
   ]
  },
  {
   "cell_type": "code",
   "execution_count": 3,
   "metadata": {},
   "outputs": [],
   "source": [
    "parameters=casim.CancerSimulatorParameters(\n",
    "                                matrix_size=20,\n",
    "                                number_of_generations=10,\n",
    "                                division_probability=0.5,\n",
    "                                adv_mutant_division_probability=0.8,\n",
    "                                death_probability=0.1,\n",
    "                                adv_mutant_death_probability=0.4,\n",
    "                                mutation_probability=0.2,\n",
    "                                adv_mutant_mutation_probability=0.8,\n",
    "                                number_of_mutations_per_division=10,\n",
    "                                adv_mutation_wait_time=3,\n",
    "                                number_of_initial_mutations=2,\n",
    "                                sampling_fraction=0.1,\n",
    "                                plot_tumour_growth=True,\n",
    "                                export_tumour=True\n",
    "                               )"
   ]
  },
  {
   "cell_type": "markdown",
   "metadata": {},
   "source": [
    "## Setup the simulation engine. "
   ]
  },
  {
   "cell_type": "code",
   "execution_count": 4,
   "metadata": {},
   "outputs": [],
   "source": [
    "if os.path.isdir('out'):\n",
    "    shutil.rmtree('out')"
   ]
  },
  {
   "cell_type": "code",
   "execution_count": 7,
   "metadata": {},
   "outputs": [],
   "source": [
    "cancer_sim = casim.CancerSimulator(parameters, seed=1, outdir='out/')"
   ]
  },
  {
   "cell_type": "code",
   "execution_count": 11,
   "metadata": {},
   "outputs": [],
   "source": [
    "# Get more verbose logging.\n",
    "logger = logging.getLogger().setLevel(\"INFO\")"
   ]
  },
  {
   "cell_type": "markdown",
   "metadata": {},
   "source": [
    "## Run the simulation "
   ]
  },
  {
   "cell_type": "code",
   "execution_count": 10,
   "metadata": {
    "scrolled": false
   },
   "outputs": [
    {
     "name": "stderr",
     "output_type": "stream",
     "text": [
      "2020-08-10 16:14:45,538 INFO: Running in single tumour mode.\n",
      "2020-08-10 16:14:45,540 INFO: First cell at (10, 10).\n",
      "2020-08-10 16:14:45,542 INFO: Ready to start CancerSim run with these parameters:\n",
      "2020-08-10 16:14:45,543 INFO: matrix_size = 20\n",
      "2020-08-10 16:14:45,544 INFO: number_of_generations = 10\n",
      "2020-08-10 16:14:45,545 INFO: division_probability = 0.5\n",
      "2020-08-10 16:14:45,546 INFO: adv_mutant_division_probability = 0.8\n",
      "2020-08-10 16:14:45,547 INFO: death_probability = 0.1\n",
      "2020-08-10 16:14:45,547 INFO: adv_mutant_death_probability = 0.4\n",
      "2020-08-10 16:14:45,548 INFO: mutation_probability = 0.2\n",
      "2020-08-10 16:14:45,549 INFO: adv_mutant_mutation_probability = 0.8\n",
      "2020-08-10 16:14:45,550 INFO: number_of_mutations_per_division = 10\n",
      "2020-08-10 16:14:45,551 INFO: adv_mutation_wait_time = 3\n",
      "2020-08-10 16:14:45,551 INFO: number_of_initial_mutations = 2\n",
      "2020-08-10 16:14:45,552 INFO: tumour_multiplicity = single\n",
      "2020-08-10 16:14:45,553 INFO: read_depth = 100\n",
      "2020-08-10 16:14:45,554 INFO: sampling_fraction = 0.1\n",
      "2020-08-10 16:14:45,554 INFO: plot_tumour_growth = True\n",
      "2020-08-10 16:14:45,555 INFO: export_tumour = True\n",
      "2020-08-10 16:14:45,556 INFO: Tumour growth in progress.\n",
      "2020-08-10 16:14:45,560 INFO: No new mutation in normal division, inheriting from parent\n",
      "2020-08-10 16:14:45,567 INFO: No new mutation in normal division, inheriting from parent\n",
      "2020-08-10 16:14:45,571 INFO: No new mutation in normal division, inheriting from parent\n",
      "2020-08-10 16:14:45,572 INFO: No new mutation in normal division, inheriting from parent\n",
      "2020-08-10 16:14:45,578 INFO: No new mutation in normal division, inheriting from parent\n",
      "2020-08-10 16:14:45,582 INFO: No new mutation in normal division, inheriting from parent\n",
      "2020-08-10 16:14:45,583 INFO: No new mutation in normal division, inheriting from parent\n",
      "2020-08-10 16:14:45,586 INFO: No new mutation in normal division, inheriting from parent\n",
      "2020-08-10 16:14:45,587 INFO: No new mutation in normal division, inheriting from parent\n",
      "2020-08-10 16:14:45,588 INFO: No new mutation in normal division, inheriting from parent\n",
      "2020-08-10 16:14:45,591 INFO: No new mutation in normal division, inheriting from parent\n",
      "2020-08-10 16:14:45,593 INFO: No new mutation in normal division, inheriting from parent\n",
      "2020-08-10 16:14:45,593 INFO: No new mutation in normal division, inheriting from parent\n",
      "2020-08-10 16:14:45,594 INFO: No new mutation in normal division, inheriting from parent\n",
      "2020-08-10 16:14:45,595 INFO: No new mutation in normal division, inheriting from parent\n",
      "2020-08-10 16:14:45,598 INFO: No new mutation in normal division, inheriting from parent\n",
      "2020-08-10 16:14:45,598 INFO: No new mutation in normal division, inheriting from parent\n",
      "2020-08-10 16:14:45,602 INFO: No new mutation in normal division, inheriting from parent\n",
      "2020-08-10 16:14:45,604 INFO: No new mutation in normal division, inheriting from parent\n",
      "2020-08-10 16:14:45,605 INFO: No new mutation in normal division, inheriting from parent\n",
      "2020-08-10 16:14:45,607 INFO: No new mutation in normal division, inheriting from parent\n",
      "2020-08-10 16:14:45,609 INFO: No new mutation in normal division, inheriting from parent\n",
      "2020-08-10 16:14:45,610 INFO: No new mutation in normal division, inheriting from parent\n",
      "2020-08-10 16:14:45,612 INFO: No new mutation in normal division, inheriting from parent\n",
      "2020-08-10 16:14:45,616 INFO: No new mutation in normal division, inheriting from parent\n",
      "2020-08-10 16:14:45,616 INFO: No new mutation in normal division, inheriting from parent\n",
      "2020-08-10 16:14:45,617 INFO: No new mutation in normal division, inheriting from parent\n",
      "2020-08-10 16:14:45,618 INFO: No new mutation in normal division, inheriting from parent\n",
      "2020-08-10 16:14:45,619 INFO: No new mutation in normal division, inheriting from parent\n",
      "2020-08-10 16:14:45,621 INFO: No new mutation in normal division, inheriting from parent\n",
      "2020-08-10 16:14:45,622 INFO: No new mutation in normal division, inheriting from parent\n",
      "2020-08-10 16:14:45,623 INFO: No new mutation in normal division, inheriting from parent\n",
      "2020-08-10 16:14:45,624 INFO: All generations finished. Starting tumour reconstruction.\n",
      "2020-08-10 16:14:45,625 INFO: Reconstruction done,  get statistics.\n",
      "2020-08-10 16:14:45,630 INFO: Exporting simulation data\n",
      "2020-08-10 16:14:45,901 INFO: Growth curve graph written to out/cancer_1/simOutput/growthCurve.pdf.\n",
      "2020-08-10 16:14:46,082 INFO: CancerSim run has finished.\n",
      "2020-08-10 16:14:46,084 INFO: Simulation output written to: out/cancer_1/simOutput.\n",
      "2020-08-10 16:14:46,084 INFO: Log files written to: out/cancer_1/log.\n",
      "2020-08-10 16:14:46,085 INFO: Consumed Wall time of this run: 0.525742 s.\n"
     ]
    },
    {
     "data": {
      "text/plain": [
       "0"
      ]
     },
     "execution_count": 10,
     "metadata": {},
     "output_type": "execute_result"
    },
    {
     "data": {
      "text/plain": [
       "<Figure size 432x288 with 0 Axes>"
      ]
     },
     "metadata": {},
     "output_type": "display_data"
    }
   ],
   "source": [
    "cancer_sim.run()"
   ]
  },
  {
   "cell_type": "markdown",
   "metadata": {},
   "source": [
    "## Output\n",
    "After the run has finished, you should find the results in\n",
    "`out/cancer_1/simOutput`."
   ]
  },
  {
   "cell_type": "code",
   "execution_count": 12,
   "metadata": {},
   "outputs": [
    {
     "name": "stdout",
     "output_type": "stream",
     "text": [
      "death_list.p\t mtx_VAF.txt\t\t    sample_out_12_11.txt\r\n",
      "growthCurve.pdf  mut_container.p\t    wholeTumourVAFHistogram.pdf\r\n",
      "mtx.p\t\t sampleHistogram_12_11.pdf\r\n"
     ]
    }
   ],
   "source": [
    "!ls out/cancer_1/simOutput"
   ]
  },
  {
   "cell_type": "markdown",
   "metadata": {},
   "source": [
    "Files with the extension `.p` are binary files (python pickles) needed to\n",
    "restart a simulation. Let's take a look at the `.txt`  files. They contain the simulation output:\n",
    "`mtx_VAF.txt` is a datafile with three columns: `mutation_id` lists the index of\n",
    "each primary mutation, `additional_mut_id` indexes the subsequent mutations that occur in a cell of\n",
    "a given `mutation_id`; `frequency` is the frequency at which a given mutation occurs.\n",
    "\n",
    "The file `sample_out_502_488.txt` lists all mutations of the artificial sample\n",
    "taken from the whole tumour. Columns are identical to `mtx_VAF.txt`.\n",
    " \n",
    "The two `.pdf` files are plots of the whole tumour histogram and the sampled\n",
    "tumour histogram, respectively. You should see figures similar to these:"
   ]
  },
  {
   "cell_type": "markdown",
   "metadata": {},
   "source": [
    "## Display results. \n",
    "The mutation frequency histogram for the whole tumour and the for sampled part of the tumour, as well as the tumour growth curve (number of tumour cells vs. time) are stored as pdf images in the simulation output directory. "
   ]
  },
  {
   "cell_type": "code",
   "execution_count": 13,
   "metadata": {},
   "outputs": [],
   "source": [
    "image_path=os.path.join(cancer_sim.outdir,'cancer_1', 'simOutput')"
   ]
  },
  {
   "cell_type": "code",
   "execution_count": 14,
   "metadata": {},
   "outputs": [],
   "source": [
    "pdfs = glob(os.path.join(image_path,\"*.pdf\"))"
   ]
  },
  {
   "cell_type": "code",
   "execution_count": 15,
   "metadata": {},
   "outputs": [
    {
     "data": {
      "text/plain": [
       "['out/cancer_1/simOutput/growthCurve.pdf',\n",
       " 'out/cancer_1/simOutput/sampleHistogram_12_11.pdf',\n",
       " 'out/cancer_1/simOutput/wholeTumourVAFHistogram.pdf']"
      ]
     },
     "execution_count": 15,
     "metadata": {},
     "output_type": "execute_result"
    }
   ],
   "source": [
    "pdfs"
   ]
  },
  {
   "cell_type": "code",
   "execution_count": 16,
   "metadata": {},
   "outputs": [
    {
     "name": "stdout",
     "output_type": "stream",
     "text": [
      "out/cancer_1/simOutput/growthCurve.pdf\n"
     ]
    },
    {
     "data": {
      "image/png": "[encoded data removed]",
      "text/plain": [
       "<wand.image.Image: 02de9e5 'PDF' (432x288)>"
      ]
     },
     "metadata": {},
     "output_type": "display_data"
    },
    {
     "name": "stdout",
     "output_type": "stream",
     "text": [
      "out/cancer_1/simOutput/sampleHistogram_12_11.pdf\n"
     ]
    },
    {
     "data": {
      "image/png": "[encoded data removed]",
      "text/plain": [
       "<wand.image.Image: 68d708f 'PDF' (432x288)>"
      ]
     },
     "metadata": {},
     "output_type": "display_data"
    },
    {
     "name": "stdout",
     "output_type": "stream",
     "text": [
      "out/cancer_1/simOutput/wholeTumourVAFHistogram.pdf\n"
     ]
    },
    {
     "data": {
      "image/png": "[encoded data removed]",
      "text/plain": [
       "<wand.image.Image: 1068a45 'PDF' (432x288)>"
      ]
     },
     "metadata": {},
     "output_type": "display_data"
    }
   ],
   "source": [
    "for pdf in pdfs:\n",
    "    print(pdf)\n",
    "    display(WImage(filename=pdf))"
   ]
  },
  {
   "cell_type": "markdown",
   "metadata": {},
   "source": [
    "### Load binary files (pickles)\n",
    "The remaining output files are serialized versions (\"pickles\") of the tumour\n",
    "geometry as a 2D matrix (`mtx.p`), the death list (`death_list.p`), and the\n",
    "mutation list (list of tuples listing the parent and the mutation ID of each\n",
    "tumour cell, `mut_container.p`).\n",
    "\n",
    "To read the pickled data, we define a utility function"
   ]
  },
  {
   "cell_type": "code",
   "execution_count": 17,
   "metadata": {},
   "outputs": [],
   "source": [
    "import pickle\n",
    "from matplotlib import pyplot"
   ]
  },
  {
   "cell_type": "code",
   "execution_count": 18,
   "metadata": {},
   "outputs": [],
   "source": [
    "def unpickle(file):\n",
    "\n",
    "    with open(os.path.join(cancer_sim._CancerSimulator__simdir, file),'rb') as fp:\n",
    "        return pickle.load(fp)"
   ]
  },
  {
   "cell_type": "code",
   "execution_count": 19,
   "metadata": {},
   "outputs": [],
   "source": [
    "# Load the mutation matrix\n",
    "mtx=unpickle('mtx.p').toarray()"
   ]
  },
  {
   "cell_type": "code",
   "execution_count": 20,
   "metadata": {},
   "outputs": [
    {
     "data": {
      "text/plain": [
       "<matplotlib.colorbar.Colorbar at 0x7fc24be3b358>"
      ]
     },
     "execution_count": 20,
     "metadata": {},
     "output_type": "execute_result"
    },
    {
     "data": {
      "image/png": "[encoded data removed]",
      "text/plain": [
       "<Figure size 288x288 with 2 Axes>"
      ]
     },
     "metadata": {
      "needs_background": "light"
     },
     "output_type": "display_data"
    }
   ],
   "source": [
    "# Plot the tumour as a 2D map color coding the mutation ID\n",
    "cmap = pyplot.cm.get_cmap('PRGn', mtx.max()+1)\n",
    "\n",
    "pyplot.matshow(mtx, cmap=cmap)\n",
    "pyplot.colorbar()"
   ]
  },
  {
   "cell_type": "code",
   "execution_count": 21,
   "metadata": {},
   "outputs": [
    {
     "data": {
      "text/plain": [
       "[(0, 0),\n",
       " (0, 1),\n",
       " (1, 2),\n",
       " (1, 3),\n",
       " (1, 4),\n",
       " (1, 5),\n",
       " (5, 6),\n",
       " (5, 7),\n",
       " (6, 8),\n",
       " (6, 9),\n",
       " (1, 10),\n",
       " (1, 11),\n",
       " (3, 12),\n",
       " (3, 13),\n",
       " (3, 14),\n",
       " (3, 15),\n",
       " (4, 16),\n",
       " (4, 17),\n",
       " (15, 18),\n",
       " (15, 19),\n",
       " (1, 20),\n",
       " (1, 21)]"
      ]
     },
     "execution_count": 21,
     "metadata": {},
     "output_type": "execute_result"
    }
   ],
   "source": [
    "unpickle('mut_container.p')"
   ]
  }
 ],
 "metadata": {
  "kernelspec": {
   "display_name": "Python 3",
   "language": "python",
   "name": "python3"
  },
  "language_info": {
   "codemirror_mode": {
    "name": "ipython",
    "version": 3
   },
   "file_extension": ".py",
   "mimetype": "text/x-python",
   "name": "python",
   "nbconvert_exporter": "python",
   "pygments_lexer": "ipython3",
   "version": "3.7.3"
  }
 },
 "nbformat": 4,
 "nbformat_minor": 2
}
