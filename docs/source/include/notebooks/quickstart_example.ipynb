{
 "cells": [
  {
   "cell_type": "markdown",
   "metadata": {},
   "source": [
    "# Quickstart example for cancer simulation \n",
    "This notebook illustrates how to run a 2D cancer simulation using CancerSim. It's a rather contrieved example with no actual scientific background. \n",
    "\n",
    "The simulation parameters are provided through the CancerSimulationParameters API. \n",
    "\n",
    "The simulation treats a 2D tumour on a 20x20 grid for 10 generations. Healthy cells and cancer cells differ by their division probabilities (0.5 vs 0.8), death probabilities (0.1 vs. 0.4), and mutation probabilities (0.2 vs. 0.8). The first cancer cell carries 2 mutations, new mutations occur with a 20% probability and 10 fold abundance. Advantageous mutations only occur every 30000th generation, i.e. they are very unlikely to occur within the simulation run. We sample 10% of the tumour at a read depth of 100.\n",
    "\n",
    "After the run, we plot the tumour growth curve and the mutation frequency histograms for the whole tumour and the sampled tumour."
   ]
  },
  {
   "cell_type": "markdown",
   "metadata": {},
   "source": [
    "## Import modules "
   ]
  },
  {
   "cell_type": "code",
   "execution_count": 5,
   "metadata": {},
   "outputs": [],
   "source": [
    "# The cancer simulation module.\n",
    "from casim import casim"
   ]
  },
  {
   "cell_type": "code",
   "execution_count": 23,
   "metadata": {},
   "outputs": [],
   "source": [
    "#  3rd party modules.\n",
    "import os, shutil\n",
    "from wand.image import Image as WImage\n",
    "from glob import glob"
   ]
  },
  {
   "cell_type": "markdown",
   "metadata": {},
   "source": [
    "## Setup parameters "
   ]
  },
  {
   "cell_type": "code",
   "execution_count": 9,
   "metadata": {},
   "outputs": [],
   "source": [
    "parameters=casim.CancerSimulatorParameters(\n",
    "                                matrix_size=20,\n",
    "                                number_of_generations=10,\n",
    "                                division_probability=0.5,\n",
    "                                adv_mutant_division_probability=0.8,\n",
    "                                death_probability=0.1,\n",
    "                                adv_mutant_death_probability=0.4,\n",
    "                                mutation_probability=0.2,\n",
    "                                adv_mutant_mutation_probability=0.8,\n",
    "                                mutations_per_division=10,\n",
    "                                adv_mutation_interval=30000,\n",
    "                                number_of_initital_mutations=2,\n",
    "                                sampling_fraction=0.1,\n",
    "                                plot_tumour_growth=True,\n",
    "                                export_tumour=True\n",
    "                               )"
   ]
  },
  {
   "cell_type": "markdown",
   "metadata": {},
   "source": [
    "## Setup the simulation engine. "
   ]
  },
  {
   "cell_type": "code",
   "execution_count": 10,
   "metadata": {},
   "outputs": [],
   "source": [
    "if os.path.isdir('out'):\n",
    "    shutil.rmtree('out')"
   ]
  },
  {
   "cell_type": "code",
   "execution_count": 11,
   "metadata": {},
   "outputs": [],
   "source": [
    "cancer_sim = casim.CancerSimulator(parameters, seed=1, outdir='out/')"
   ]
  },
  {
   "cell_type": "markdown",
   "metadata": {},
   "source": [
    "## Run the simulation "
   ]
  },
  {
   "cell_type": "code",
   "execution_count": 12,
   "metadata": {
    "scrolled": false
   },
   "outputs": [
    {
     "data": {
      "text/plain": [
       "0"
      ]
     },
     "execution_count": 12,
     "metadata": {},
     "output_type": "execute_result"
    },
    {
     "data": {
      "text/plain": [
       "<Figure size 432x288 with 0 Axes>"
      ]
     },
     "metadata": {},
     "output_type": "display_data"
    }
   ],
   "source": [
    "cancer_sim.run()"
   ]
  },
  {
   "cell_type": "markdown",
   "metadata": {},
   "source": [
    "## Output\n",
    "After the run has finished, you should find the results in\n",
    "`out/cancer_1/simOutput`."
   ]
  },
  {
   "cell_type": "code",
   "execution_count": 13,
   "metadata": {},
   "outputs": [
    {
     "name": "stdout",
     "output_type": "stream",
     "text": [
      "death_list.p\t mtx_VAF.txt\t\t    sample_out_12_13.txt\r\n",
      "growthCurve.pdf  mut_container.p\t    wholeTumourVAFHistogram.pdf\r\n",
      "mtx.p\t\t sampleHistogram_12_13.pdf\r\n"
     ]
    }
   ],
   "source": [
    "!ls out/cancer_1/simOutput"
   ]
  },
  {
   "cell_type": "markdown",
   "metadata": {},
   "source": [
    "Files with the extension `.p` are binary files (python pickles) needed to\n",
    "restart a simulation. Let's take a look at the `.txt`  files. They contain the simulation output:\n",
    "`mtx_VAF.txt` is a datafile with three columns: `mutation_id` lists the index of\n",
    "each primary mutation, `additional_mut_id` indexes the subsequent mutations that occur in a cell of\n",
    "a given `mutation_id`; `frequency` is the frequency at which a given mutation occurs.\n",
    "\n",
    "The file `sample_out_502_488.txt` lists all mutations of the artificial sample\n",
    "taken from the whole tumour. Columns are identical to `mtx_VAF.txt`.\n",
    " \n",
    "The two `.pdf` files are plots of the whole tumour histogram and the sampled\n",
    "tumour histogram, respectively. You should see figures similar to these:"
   ]
  },
  {
   "cell_type": "markdown",
   "metadata": {},
   "source": [
    "## Display results. \n",
    "The mutation frequency histogram for the whole tumour and the for sampled part of the tumour, as well as the tumour growth curve (number of tumour cells vs. time) are stored as pdf images in the simulation output directory. "
   ]
  },
  {
   "cell_type": "code",
   "execution_count": 14,
   "metadata": {
    "collapsed": true
   },
   "outputs": [],
   "source": [
    "image_path=os.path.join(cancer_sim.outdir,'cancer_1', 'simOutput')"
   ]
  },
  {
   "cell_type": "code",
   "execution_count": 25,
   "metadata": {},
   "outputs": [],
   "source": [
    "pdfs = glob(os.path.join(image_path,\"*.pdf\"))"
   ]
  },
  {
   "cell_type": "code",
   "execution_count": 26,
   "metadata": {},
   "outputs": [
    {
     "data": {
      "text/plain": [
       "['out/cancer_1/simOutput/wholeTumourVAFHistogram.pdf',\n",
       " 'out/cancer_1/simOutput/sampleHistogram_12_13.pdf',\n",
       " 'out/cancer_1/simOutput/growthCurve.pdf']"
      ]
     },
     "execution_count": 26,
     "metadata": {},
     "output_type": "execute_result"
    }
   ],
   "source": [
    "pdfs"
   ]
  },
  {
   "cell_type": "code",
   "execution_count": 28,
   "metadata": {},
   "outputs": [
    {
     "name": "stdout",
     "output_type": "stream",
     "text": [
      "out/cancer_1/simOutput/wholeTumourVAFHistogram.pdf\n"
     ]
    },
    {
     "data": {
      "image/png": "[encoded data removed]",
      "text/plain": [
       "<wand.image.Image: d938795 'PDF' (432x288)>"
      ]
     },
     "metadata": {},
     "output_type": "display_data"
    },
    {
     "name": "stdout",
     "output_type": "stream",
     "text": [
      "out/cancer_1/simOutput/sampleHistogram_12_13.pdf\n"
     ]
    },
    {
     "data": {
      "image/png": "[encoded data removed]",
      "text/plain": [
       "<wand.image.Image: 4a02442 'PDF' (432x288)>"
      ]
     },
     "metadata": {},
     "output_type": "display_data"
    },
    {
     "name": "stdout",
     "output_type": "stream",
     "text": [
      "out/cancer_1/simOutput/growthCurve.pdf\n"
     ]
    },
    {
     "data": {
      "image/png": "[encoded data removed]",
      "text/plain": [
       "<wand.image.Image: 06f6f8f 'PDF' (432x288)>"
      ]
     },
     "metadata": {},
     "output_type": "display_data"
    }
   ],
   "source": [
    "for pdf in pdfs:\n",
    "    print(pdf)\n",
    "    display(WImage(filename=pdf))"
   ]
  },
  {
   "cell_type": "markdown",
   "metadata": {},
   "source": [
    "### Load binary files (pickles)\n",
    "The remaining output files are serialized versions (\"pickles\") of the tumour\n",
    "geometry as a 2D matrix (`mtx.p`), the death list (`death_list.p`), and the\n",
    "mutation list (list of tuples listing the parent and the mutation ID of each\n",
    "tumour cell, `mut_container.p`).\n",
    "\n",
    "To read the pickled data, we define a utility function"
   ]
  },
  {
   "cell_type": "code",
   "execution_count": 60,
   "metadata": {},
   "outputs": [],
   "source": [
    "import pickle\n",
    "from matplotlib import pyplot"
   ]
  },
  {
   "cell_type": "code",
   "execution_count": 49,
   "metadata": {},
   "outputs": [],
   "source": [
    "def unpickle(file):\n",
    "\n",
    "    with open(os.path.join(cancer_sim._CancerSimulator__simdir, file),'rb') as fp:\n",
    "        return pickle.load(fp)"
   ]
  },
  {
   "cell_type": "code",
   "execution_count": 74,
   "metadata": {},
   "outputs": [],
   "source": [
    "# Load the mutation matrix\n",
    "mtx=unpickle('mtx.p').toarray()"
   ]
  },
  {
   "cell_type": "code",
   "execution_count": 80,
   "metadata": {},
   "outputs": [
    {
     "data": {
      "text/plain": [
       "<matplotlib.colorbar.Colorbar at 0x7f4a52325160>"
      ]
     },
     "execution_count": 80,
     "metadata": {},
     "output_type": "execute_result"
    },
    {
     "data": {
      "image/png": "[encoded data removed]",
      "text/plain": [
       "<Figure size 288x288 with 2 Axes>"
      ]
     },
     "metadata": {
      "needs_background": "light"
     },
     "output_type": "display_data"
    }
   ],
   "source": [
    "# Plot the tumour as a 2D map color coding the mutation ID\n",
    "cmap = pyplot.cm.get_cmap('PRGn', mtx.max()+1)\n",
    "\n",
    "pyplot.matshow(mtx, cmap=cmap)\n",
    "pyplot.colorbar()"
   ]
  },
  {
   "cell_type": "code",
   "execution_count": 81,
   "metadata": {},
   "outputs": [
    {
     "data": {
      "text/plain": [
       "[(0, 0),\n",
       " (0, 1),\n",
       " (1, 2),\n",
       " (1, 3),\n",
       " (1, 4),\n",
       " (1, 5),\n",
       " (5, 6),\n",
       " (5, 7),\n",
       " (6, 8),\n",
       " (6, 9),\n",
       " (1, 10),\n",
       " (1, 11),\n",
       " (3, 12),\n",
       " (3, 13),\n",
       " (3, 14),\n",
       " (3, 15),\n",
       " (4, 16),\n",
       " (4, 17),\n",
       " (15, 18),\n",
       " (15, 19),\n",
       " (1, 20),\n",
       " (1, 21)]"
      ]
     },
     "execution_count": 81,
     "metadata": {},
     "output_type": "execute_result"
    }
   ],
   "source": [
    "unpickle('mut_container.p')"
   ]
  }
 ],
 "metadata": {
  "kernelspec": {
   "display_name": "Python [conda env:casim] *",
   "language": "python",
   "name": "conda-env-casim-py"
  },
  "language_info": {
   "codemirror_mode": {
    "name": "ipython",
    "version": 3
   },
   "file_extension": ".py",
   "mimetype": "text/x-python",
   "name": "python",
   "nbconvert_exporter": "python",
   "pygments_lexer": "ipython3",
   "version": "3.7.3"
  }
 },
 "nbformat": 4,
 "nbformat_minor": 2
}
